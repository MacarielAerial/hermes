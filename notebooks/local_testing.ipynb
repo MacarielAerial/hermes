{
 "cells": [
  {
   "cell_type": "code",
   "execution_count": 33,
   "metadata": {},
   "outputs": [],
   "source": [
    "import requests\n",
    "\n",
    "from hermes.connectors.sql_connector.schemas import UserCreate\n",
    "\n",
    "register_url = 'http://127.0.0.1:80/register/'\n",
    "\n",
    "register_request = UserCreate(password='dummy', email='dummy@domain.com')\n",
    "\n",
    "register_response = requests.post(\n",
    "    url=register_url,\n",
    "    data=register_request.model_dump_json()\n",
    ")"
   ]
  },
  {
   "cell_type": "code",
   "execution_count": 34,
   "metadata": {},
   "outputs": [
    {
     "data": {
      "text/plain": [
       "{'message': 'User 1 has been created'}"
      ]
     },
     "execution_count": 34,
     "metadata": {},
     "output_type": "execute_result"
    }
   ],
   "source": [
    "register_response.json()"
   ]
  },
  {
   "cell_type": "code",
   "execution_count": 35,
   "metadata": {},
   "outputs": [],
   "source": [
    "import requests\n",
    "\n",
    "users_url = 'http://127.0.0.1:80/users/'\n",
    "\n",
    "users_response = requests.get(\n",
    "    url=users_url\n",
    ")"
   ]
  },
  {
   "cell_type": "code",
   "execution_count": 36,
   "metadata": {},
   "outputs": [
    {
     "data": {
      "text/plain": [
       "[{'email': 'dummy@domain.com',\n",
       "  'id': 1,\n",
       "  'hashed_password': '$2b$12$i8gWSp4s2ZRzjd/M44UZJuFThaNHpnJR.6OGG//tB4tAgaQWwrOVq'}]"
      ]
     },
     "execution_count": 36,
     "metadata": {},
     "output_type": "execute_result"
    }
   ],
   "source": [
    "users_response.json()"
   ]
  }
 ],
 "metadata": {
  "kernelspec": {
   "display_name": ".venv",
   "language": "python",
   "name": "python3"
  },
  "language_info": {
   "codemirror_mode": {
    "name": "ipython",
    "version": 3
   },
   "file_extension": ".py",
   "mimetype": "text/x-python",
   "name": "python",
   "nbconvert_exporter": "python",
   "pygments_lexer": "ipython3",
   "version": "3.11.9"
  }
 },
 "nbformat": 4,
 "nbformat_minor": 2
}
