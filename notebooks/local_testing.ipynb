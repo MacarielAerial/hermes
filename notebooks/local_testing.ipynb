{
 "cells": [
  {
   "cell_type": "code",
   "execution_count": 55,
   "metadata": {},
   "outputs": [],
   "source": [
    "import requests\n",
    "\n",
    "from hermes.connectors.sql_connector.schemas import UserCreate\n",
    "\n",
    "register_url = 'http://127.0.0.1:80/register/'\n",
    "\n",
    "user_create = UserCreate(password='dummy', email='dummy@domain.com')\n",
    "\n",
    "register_response = requests.post(\n",
    "    url=register_url,\n",
    "    json=user_create.model_dump()\n",
    ")"
   ]
  },
  {
   "cell_type": "code",
   "execution_count": 42,
   "metadata": {},
   "outputs": [
    {
     "data": {
      "text/plain": [
       "{'message': 'User has been created',\n",
       " 'db_user': {'email': 'dummy4@domain.com', 'id': 1, 'items': [], 'orders': []}}"
      ]
     },
     "execution_count": 42,
     "metadata": {},
     "output_type": "execute_result"
    }
   ],
   "source": [
    "register_response.json()"
   ]
  },
  {
   "cell_type": "code",
   "execution_count": 43,
   "metadata": {},
   "outputs": [],
   "source": [
    "import requests\n",
    "\n",
    "users_url = 'http://127.0.0.1:80/users/'\n",
    "\n",
    "users_response = requests.get(\n",
    "    url=users_url\n",
    ")"
   ]
  },
  {
   "cell_type": "code",
   "execution_count": 44,
   "metadata": {},
   "outputs": [
    {
     "data": {
      "text/plain": [
       "{'message': 'Found 1 user/users',\n",
       " 'db_users': [{'email': 'dummy4@domain.com',\n",
       "   'id': 1,\n",
       "   'items': [],\n",
       "   'orders': []}]}"
      ]
     },
     "execution_count": 44,
     "metadata": {},
     "output_type": "execute_result"
    }
   ],
   "source": [
    "users_response.json()"
   ]
  },
  {
   "cell_type": "code",
   "execution_count": 45,
   "metadata": {},
   "outputs": [],
   "source": [
    "import requests\n",
    "\n",
    "user_url = 'http://127.0.0.1:80/users/1'\n",
    "\n",
    "user_response = requests.get(\n",
    "    url=user_url\n",
    ")"
   ]
  },
  {
   "cell_type": "code",
   "execution_count": 30,
   "metadata": {},
   "outputs": [
    {
     "data": {
      "text/plain": [
       "{'message': 'Found user',\n",
       " 'db_user': {'email': 'dummy2@domain.com', 'id': 1, 'items': [], 'orders': []}}"
      ]
     },
     "execution_count": 30,
     "metadata": {},
     "output_type": "execute_result"
    }
   ],
   "source": [
    "user_response.json()"
   ]
  },
  {
   "cell_type": "code",
   "execution_count": 48,
   "metadata": {},
   "outputs": [],
   "source": [
    "import requests\n",
    "\n",
    "from hermes.connectors.sql_connector.schemas import ItemCreate\n",
    "\n",
    "user_item_url = 'http://127.0.0.1:80/users/1/items/'\n",
    "user_id = 1\n",
    "item_create = ItemCreate(name='hotel', quantity=1)\n",
    "\n",
    "user_item_response = requests.post(\n",
    "    url=user_item_url,\n",
    "    json={'user_id': user_id} | item_create.model_dump()\n",
    ")"
   ]
  },
  {
   "cell_type": "code",
   "execution_count": 47,
   "metadata": {},
   "outputs": [
    {
     "data": {
      "text/plain": [
       "200"
      ]
     },
     "execution_count": 47,
     "metadata": {},
     "output_type": "execute_result"
    }
   ],
   "source": [
    "user_item_response.status_code"
   ]
  },
  {
   "cell_type": "code",
   "execution_count": 50,
   "metadata": {},
   "outputs": [],
   "source": [
    "import requests\n",
    "\n",
    "items_url = \"http://127.0.0.1:80/items/\"\n",
    "\n",
    "items_response = requests.get(\n",
    "    url=items_url\n",
    ")"
   ]
  },
  {
   "cell_type": "code",
   "execution_count": 51,
   "metadata": {},
   "outputs": [
    {
     "data": {
      "text/plain": [
       "{'message': 'Found 1 items',\n",
       " 'db_items': [{'name': 'hotel',\n",
       "   'quantity': 1,\n",
       "   'id': 1,\n",
       "   'user_id': 1,\n",
       "   'order_items': []}]}"
      ]
     },
     "execution_count": 51,
     "metadata": {},
     "output_type": "execute_result"
    }
   ],
   "source": [
    "items_response.json()"
   ]
  },
  {
   "cell_type": "code",
   "execution_count": 56,
   "metadata": {},
   "outputs": [],
   "source": [
    "import requests\n",
    "\n",
    "from hermes.connectors.sql_connector.schemas import UserCreate\n",
    "\n",
    "login_url = \"http://127.0.0.1:80/login/\"\n",
    "\n",
    "user_create = UserCreate(email='dummy@domain.com', password='dummy')\n",
    "\n",
    "login_response = requests.post(\n",
    "    url=login_url,\n",
    "    json=user_create.model_dump()\n",
    ")"
   ]
  },
  {
   "cell_type": "code",
   "execution_count": 57,
   "metadata": {},
   "outputs": [
    {
     "data": {
      "text/plain": [
       "{'access_token': 'fake-jwt-token', 'token_type': 'bearer'}"
      ]
     },
     "execution_count": 57,
     "metadata": {},
     "output_type": "execute_result"
    }
   ],
   "source": [
    "login_response.json()"
   ]
  }
 ],
 "metadata": {
  "kernelspec": {
   "display_name": ".venv",
   "language": "python",
   "name": "python3"
  },
  "language_info": {
   "codemirror_mode": {
    "name": "ipython",
    "version": 3
   },
   "file_extension": ".py",
   "mimetype": "text/x-python",
   "name": "python",
   "nbconvert_exporter": "python",
   "pygments_lexer": "ipython3",
   "version": "3.11.9"
  }
 },
 "nbformat": 4,
 "nbformat_minor": 2
}
